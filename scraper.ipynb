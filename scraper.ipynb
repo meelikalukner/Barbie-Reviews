{
 "cells": [
  {
   "cell_type": "markdown",
   "metadata": {},
   "source": [
    "### \"Barbie\" (2023) reviews from IMDB\n",
    "\n",
    "This dataset contains reviews of the movie \"Barbie\" (2023) from IMDB. The reviews are scraped from https://www.imdb.com/title/tt1517268/reviews?spoiler=hide&sort=curated&dir=desc&ratingFilter=0. The reviews are filtered to exclude spoilers. The scraping is done using Selenium webdriver, which is configured to use Google Chrome. Since the reviews are loaded dynamically and require clicking the \"Load more\" button on the website, the scraping is limited to 40 clicks iterations. The data is saved in the file *barbie_reviews.csv*."
   ]
  },
  {
   "cell_type": "code",
   "execution_count": 34,
   "metadata": {},
   "outputs": [],
   "source": [
    "from selenium import webdriver\n",
    "from selenium.common.exceptions import NoSuchElementException\n",
    "from selenium.webdriver.common.by import By\n",
    "from bs4 import BeautifulSoup\n",
    "import time"
   ]
  },
  {
   "cell_type": "code",
   "execution_count": null,
   "metadata": {},
   "outputs": [],
   "source": [
    "url = 'https://www.imdb.com/title/tt1517268/reviews?spoiler=hide&sort=curated&dir=desc&ratingFilter=0'\n",
    "driver = webdriver.Chrome()\n",
    "\n",
    "driver.get(url)\n",
    "reviews_data = []\n",
    "time.sleep(5)\n",
    "\n",
    "for _ in range(40):\n",
    "    try:\n",
    "        load_more_button = driver.find_element(By.CLASS_NAME,'ipl-load-more__button')\n",
    "        load_more_button.click()\n",
    "        time.sleep(3)\n",
    "    except NoSuchElementException:\n",
    "        break\n",
    "\n",
    "while True:\n",
    "    time.sleep(5)\n",
    "\n",
    "    soup = BeautifulSoup(driver.page_source, 'html.parser')\n",
    "\n",
    "    for container in soup.find_all('div',class_='review-container'):\n",
    "        review_dict = {}\n",
    "\n",
    "        title_element = container.find('a', class_='title')\n",
    "        review_dict['title'] = container.find('a', class_='title').text.strip() if title_element else None\n",
    "\n",
    "        rating_element = container.find('span', class_='rating-other-user-rating')\n",
    "        review_dict['rating'] = rating_element.text.strip() if rating_element else None\n",
    "\n",
    "        content_element_clickable = container.find('div', class_='text show-more__control clickable')\n",
    "        if content_element_clickable:\n",
    "            review_dict['content'] = content_element_clickable.text.strip()\n",
    "        else:\n",
    "        # Extract the content for 'text show-more__control'\n",
    "            content_element = container.find('div', class_='text show-more__control')\n",
    "            review_dict['content'] = content_element.text.strip() if content_element else None\n",
    "        \n",
    "        reviews_data.append(review_dict)\n",
    "        #print(review_dict)\n",
    "\n",
    "    driver.quit()\n",
    "    raise SystemExit(\"Driver quit, stopping cell execution.\")"
   ]
  },
  {
   "cell_type": "code",
   "execution_count": null,
   "metadata": {},
   "outputs": [],
   "source": [
    "import pandas as pd\n",
    "\n",
    "reviews_df = pd.DataFrame(reviews_data)\n",
    "reviews_df"
   ]
  },
  {
   "cell_type": "code",
   "execution_count": 47,
   "metadata": {},
   "outputs": [],
   "source": [
    "reviews_df.to_csv('barbie_reviews.csv')"
   ]
  }
 ],
 "metadata": {
  "kernelspec": {
   "display_name": "Python 3",
   "language": "python",
   "name": "python3"
  },
  "language_info": {
   "codemirror_mode": {
    "name": "ipython",
    "version": 3
   },
   "file_extension": ".py",
   "mimetype": "text/x-python",
   "name": "python",
   "nbconvert_exporter": "python",
   "pygments_lexer": "ipython3",
   "version": "3.11.1"
  }
 },
 "nbformat": 4,
 "nbformat_minor": 2
}
